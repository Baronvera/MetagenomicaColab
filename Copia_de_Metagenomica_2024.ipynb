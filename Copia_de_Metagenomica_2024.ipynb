{
  "nbformat": 4,
  "nbformat_minor": 0,
  "metadata": {
    "colab": {
      "provenance": [],
      "machine_shape": "hm",
      "toc_visible": true
    },
    "kernelspec": {
      "name": "python3",
      "display_name": "Python 3"
    }
  },
  "cells": [
    {
      "cell_type": "markdown",
      "source": [
        "#**2. Instalación de Conda y programas**"
      ],
      "metadata": {
        "id": "F3PJa-vdq3-v"
      }
    },
    {
      "cell_type": "markdown",
      "source": [
        "Instale y llame a conda."
      ],
      "metadata": {
        "id": "yOV010UiDItQ"
      }
    },
    {
      "cell_type": "code",
      "source": [
        "pip install -q condacolab"
      ],
      "metadata": {
        "id": "bMqh69xSnxla"
      },
      "execution_count": null,
      "outputs": []
    },
    {
      "cell_type": "code",
      "source": [
        "import condacolab\n",
        "condacolab.install()"
      ],
      "metadata": {
        "id": "9iQ-tA-qnn5Q"
      },
      "execution_count": null,
      "outputs": []
    },
    {
      "cell_type": "code",
      "source": [
        "!conda --version"
      ],
      "metadata": {
        "id": "7Pk7y4MSDNpH"
      },
      "execution_count": null,
      "outputs": []
    },
    {
      "cell_type": "markdown",
      "source": [
        "Instale sus programas."
      ],
      "metadata": {
        "id": "0Bp9oLGTDRW3"
      }
    },
    {
      "cell_type": "code",
      "source": [
        "!conda install -c conda-forge -c bioconda -c defaults abricate"
      ],
      "metadata": {
        "id": "_2r3jAVrSXl8"
      },
      "execution_count": null,
      "outputs": []
    },
    {
      "cell_type": "code",
      "source": [
        "!abricate --check"
      ],
      "metadata": {
        "id": "feJmlkhhmw3F"
      },
      "execution_count": null,
      "outputs": []
    },
    {
      "cell_type": "code",
      "source": [
        "!conda install bioconda::flye"
      ],
      "metadata": {
        "id": "32KVY3UklPvK"
      },
      "execution_count": null,
      "outputs": []
    },
    {
      "cell_type": "code",
      "source": [
        "%%shell\n",
        "conda install -c bioconda quast -y"
      ],
      "metadata": {
        "id": "qb8DuT3txm5C"
      },
      "execution_count": null,
      "outputs": []
    },
    {
      "cell_type": "code",
      "source": [
        "!conda create -yqn tutorial -c conda-forge -c bioconda kraken2 krakentools bracken\n",
        "conda_path = !source activate tutorial && echo $CONDA_PREFIX:$PATH\n",
        "%set_env PATH=$conda_path"
      ],
      "metadata": {
        "id": "yIKhc8XUnqzw"
      },
      "execution_count": null,
      "outputs": []
    },
    {
      "cell_type": "code",
      "source": [
        "!conda install -c bioconda krona -y"
      ],
      "metadata": {
        "id": "Fcbr7TBfZMpt"
      },
      "execution_count": null,
      "outputs": []
    },
    {
      "cell_type": "markdown",
      "source": [
        "#**3. Ensamblaje (metaFlye)**"
      ],
      "metadata": {
        "id": "PIPEMDEnl3Be"
      }
    },
    {
      "cell_type": "markdown",
      "source": [
        "A continuación usted realizará el ensamblaje *de novo* del metagenoma de la muestra procesada. En este paso se utilizará el programa `flye` con habilitando la opción para metagenomas `--meta`.\n",
        "\n",
        "**Nota:**\n",
        "- Esto tarda aproximadamente 40 minutos para el archivo completo `MetaG.fastq`).\n",
        "- El archivo `MetaG_50p.fastq` es subset de datos que corresponde al 50% de las lecturas y tarda solo 15 minutos.\n",
        "- El archivo `MetaG_30p.fastq` es subset de datos que corresponde al 30% de las lecturas y tarda solo 5 minutos."
      ],
      "metadata": {
        "id": "Y8GSsuCynS1b"
      }
    },
    {
      "cell_type": "markdown",
      "source": [
        "Descargue los archivos fastq."
      ],
      "metadata": {
        "id": "xZZfuinY5FgU"
      }
    },
    {
      "cell_type": "code",
      "source": [
        "!wget -O MetaG_30p.fastq https://www.dropbox.com/scl/fi/z7ia4jbkpzb4pvwwiuz2v/MetaG_30p.fastq?rlkey=0eyuhu0lz7lp4hb2nt1xnab2y&st=znlx6st4&dl=0"
      ],
      "metadata": {
        "id": "3TtG7uY5n6tu"
      },
      "execution_count": null,
      "outputs": []
    },
    {
      "cell_type": "code",
      "source": [
        "!wget -O MetaG_50p.fastq https://www.dropbox.com/scl/fi/pedbg1mrdgv1e7tlkhkfh/MetaG_50p.fastq?rlkey=m7m899j6rjtufb28jikpq620k&st=uv6vy5a3&dl=0"
      ],
      "metadata": {
        "id": "LpY_dzC3oPmh"
      },
      "execution_count": null,
      "outputs": []
    },
    {
      "cell_type": "markdown",
      "source": [
        "Observe las primeras lineas de su archivo."
      ],
      "metadata": {
        "id": "5JiuoGJ15IBV"
      }
    },
    {
      "cell_type": "code",
      "source": [
        "!head MetaG_50p.fastq"
      ],
      "metadata": {
        "id": "JhJAJSoOo69L"
      },
      "execution_count": null,
      "outputs": []
    },
    {
      "cell_type": "markdown",
      "source": [
        "Ejecute flye."
      ],
      "metadata": {
        "id": "gEQSUkBO5LFp"
      }
    },
    {
      "cell_type": "code",
      "source": [
        "%%shell\n",
        "flye --meta --nano-raw MetaG_50p.fastq --out-dir /content/assembly --threads 2"
      ],
      "metadata": {
        "id": "lRrR-rdzlzdm"
      },
      "execution_count": null,
      "outputs": []
    },
    {
      "cell_type": "markdown",
      "source": [
        "#**4. Evaluación de los genomas ensamblados.**"
      ],
      "metadata": {
        "id": "mPW-NvbWrwj2"
      }
    },
    {
      "cell_type": "markdown",
      "source": [
        "##**4.1. Clasificación taxonómica**\n",
        "\n",
        "Primero que todo deberemos identificar taxonómicamente los genomas obtenidos. Podemos encontrar varias opciones, entre estas podemos hacer uso del programa `kraken2`."
      ],
      "metadata": {
        "id": "lijM-ED-sIKs"
      }
    },
    {
      "cell_type": "markdown",
      "source": [
        "###**4.1.2. Descargar base de datos**\n",
        "\n",
        "Primero deberemos descargar la base de datos de refencia. La decisión de cual base de datos usar influenciará en la cantidad de contigs identificados, asi que sea cauteloso en esta decisión.\n",
        "\n",
        "**Nota:** Este proceso tarda aproximadamente 8 minutos."
      ],
      "metadata": {
        "id": "5K0sp6rp56jW"
      }
    },
    {
      "cell_type": "code",
      "metadata": {
        "id": "a2R65tFYohTY"
      },
      "source": [
        "!mkdir protocol_db\n",
        "!wget -qnc https://genome-idx.s3.amazonaws.com/kraken/k2_standard_eupath_20201202.tar.gz\n",
        "!tar xvfz k2_standard_eupath_20201202.tar.gz -C protocol_db"
      ],
      "execution_count": null,
      "outputs": []
    },
    {
      "cell_type": "markdown",
      "source": [
        "###**4.1.3. Clasifique los contigs con Kraken2**"
      ],
      "metadata": {
        "id": "6ydCxDATtcD6"
      }
    },
    {
      "cell_type": "markdown",
      "source": [
        "A continuación realice la identificación taxonómica de los contigs, obtendrá un archivo de salida y un reporte."
      ],
      "metadata": {
        "id": "Hy2Ols0Nuwnw"
      }
    },
    {
      "cell_type": "code",
      "metadata": {
        "id": "X7w0PTT2qUIm"
      },
      "source": [
        "!kraken2 --db protocol_db --report metaG.k2report --minimum-hit-groups 3 /content/assembly/assembly.fasta > metaG.kraken2"
      ],
      "execution_count": null,
      "outputs": []
    },
    {
      "cell_type": "markdown",
      "source": [
        "Observe el número de contigs clasificados."
      ],
      "metadata": {
        "id": "LyQXwo77wh6O"
      }
    },
    {
      "cell_type": "markdown",
      "source": [
        "###**4.1.4. Estime las abundancias con Bracken**"
      ],
      "metadata": {
        "id": "1g24aKkDuQKI"
      }
    },
    {
      "cell_type": "code",
      "metadata": {
        "id": "s7dUekmH8-B-"
      },
      "source": [
        "!bracken -d protocol_db -i metaG.k2report -o metaG.bracken -w metaG.breport -r 100 -l S -t 2"
      ],
      "execution_count": null,
      "outputs": []
    },
    {
      "cell_type": "markdown",
      "source": [
        "Observe el resultado de bracken."
      ],
      "metadata": {
        "id": "_eRDbni1w6_0"
      }
    },
    {
      "cell_type": "code",
      "source": [
        "!head metaG.bracken"
      ],
      "metadata": {
        "id": "thu2TXiN9ttf"
      },
      "execution_count": null,
      "outputs": []
    },
    {
      "cell_type": "markdown",
      "source": [
        "###**4.1.5. Visualice la taxonomía con Krona**"
      ],
      "metadata": {
        "id": "_8cUZ1ezuaBf"
      }
    },
    {
      "cell_type": "markdown",
      "source": [
        "Cambie el formato de bracken a krona."
      ],
      "metadata": {
        "id": "dfn4O-M-xHPz"
      }
    },
    {
      "cell_type": "code",
      "metadata": {
        "id": "-Afa4tMi-PEU"
      },
      "source": [
        "!kreport2krona.py -r metaG.breport -o metaG.b.krona.txt --no-intermediate-ranks"
      ],
      "execution_count": null,
      "outputs": []
    },
    {
      "cell_type": "markdown",
      "source": [
        "Actualice la base de datos de taxonomía de krona."
      ],
      "metadata": {
        "id": "egpYWBbpxNNa"
      }
    },
    {
      "cell_type": "code",
      "source": [
        "!ktUpdateTaxonomy.sh"
      ],
      "metadata": {
        "id": "JNq2gALdZR1Q"
      },
      "execution_count": null,
      "outputs": []
    },
    {
      "cell_type": "markdown",
      "source": [
        "Genere el reporte de krona."
      ],
      "metadata": {
        "id": "tUwhSraTxT8O"
      }
    },
    {
      "cell_type": "code",
      "source": [
        "!ktImportTaxonomy -t 2 -m 6 metaG.bracken -o metaG.krona.out.html"
      ],
      "metadata": {
        "id": "e6kCWZhqZTd5"
      },
      "execution_count": null,
      "outputs": []
    },
    {
      "cell_type": "markdown",
      "source": [
        "Descargue el reporte y visualice el resultado directamente en algún navegador."
      ],
      "metadata": {
        "id": "1PO11cv1xcem"
      }
    },
    {
      "cell_type": "code",
      "metadata": {
        "id": "bPk-nzfWAYRQ"
      },
      "source": [
        "from google.colab import files\n",
        "files.download('metaG.krona.out.html')"
      ],
      "execution_count": null,
      "outputs": []
    },
    {
      "cell_type": "code",
      "source": [
        "from google.colab import files\n",
        "files.download('metaG.breport')"
      ],
      "metadata": {
        "id": "vLa_st5_RtN7"
      },
      "execution_count": null,
      "outputs": []
    },
    {
      "cell_type": "markdown",
      "source": [
        "###**4.1.6. Visualice los resultados con Pavian**"
      ],
      "metadata": {
        "id": "xCNbFNpIyVAQ"
      }
    },
    {
      "cell_type": "markdown",
      "source": [
        "Usted también podrá usar los archivos de reporte de bracken para explorar los resultados en la página web de Pavian."
      ],
      "metadata": {
        "id": "DSquu_XFyg5Q"
      }
    },
    {
      "cell_type": "code",
      "metadata": {
        "id": "VUK3Dm15rXCf"
      },
      "source": [
        "from IPython.display import IFrame\n",
        "IFrame('https://fbreitwieser.shinyapps.io/pavian/', width='100%', height=600)"
      ],
      "execution_count": null,
      "outputs": []
    },
    {
      "cell_type": "markdown",
      "source": [
        "##**5.2. Estadísticas del ensamblaje**"
      ],
      "metadata": {
        "id": "M32YDzx9zFnE"
      }
    },
    {
      "cell_type": "markdown",
      "source": [
        "Primero podemos descargar la base de datos de silva para quast. Nos será de utilidad más adelante."
      ],
      "metadata": {
        "id": "FIM7yixxA0OY"
      }
    },
    {
      "cell_type": "code",
      "source": [
        "%%bash\n",
        "quast-download-silva"
      ],
      "metadata": {
        "id": "1nlyTBitx-Jm"
      },
      "execution_count": null,
      "outputs": []
    },
    {
      "cell_type": "markdown",
      "source": [
        "Observe las opciones de `quast` desplegando el menú de help."
      ],
      "metadata": {
        "id": "cCbkP8lRA7-b"
      }
    },
    {
      "cell_type": "code",
      "source": [
        "!metaquast.py -h"
      ],
      "metadata": {
        "id": "9otbi8SMyI2p"
      },
      "execution_count": null,
      "outputs": []
    },
    {
      "cell_type": "markdown",
      "source": [
        "Corra `metaquast` especificando los genomas de refencia que desea analizar desde el archivo `list_references.txt` que se encuentra en la carpeta `data` dentro de `Modulo_4`. Usted puede crear este archivo usando el resultado obtenido en krake2/bracken.\n",
        "\n",
        "**Nota:** Esto tarda aproximadamente 12 minutos para el 100%\n",
        "y 4 minutos para 50%."
      ],
      "metadata": {
        "id": "5V0T3tM4BFpL"
      }
    },
    {
      "cell_type": "markdown",
      "source": [
        "Descargue el archivo con la lista de especies."
      ],
      "metadata": {
        "id": "uyGtj5VPhVRo"
      }
    },
    {
      "cell_type": "code",
      "source": [
        "!wget -O list_references_50p.txt https://www.dropbox.com/scl/fi/m8ow3goeyfvx6it16pln4/list_references_50p.txt?rlkey=fv93p4jfgjzfovmmtab9r62oi&st=j4c9hbl7&dl=0"
      ],
      "metadata": {
        "id": "P0FWNzPago9j"
      },
      "execution_count": null,
      "outputs": []
    },
    {
      "cell_type": "markdown",
      "source": [
        "Ejecute metaquast."
      ],
      "metadata": {
        "id": "fj8t5UAJhc36"
      }
    },
    {
      "cell_type": "code",
      "source": [
        "%%shell\n",
        "metaquast.py /content/assembly/assembly.fasta -t 2 --references-list list_references_50p.txt"
      ],
      "metadata": {
        "id": "-zisOnOE8-c4"
      },
      "execution_count": null,
      "outputs": []
    },
    {
      "cell_type": "markdown",
      "source": [
        "Otra opción es ejecutar este comando pero en lugar de especificar una lista de genomas usted puede usar la opción `--gene-finding`, el cual contrastará los contigs contra la base de datos de silva que previamente descargamos para identificar los genomas de referencia a descargar.\n",
        "\n",
        "**Nota:** Esto tarda aproximadamente 15 minutos.\n",
        "\n",
        "**Nota2:** No haremos esta opción por eso esta como un comentario (#), pero si desea puede hacerlo y comparar los resultados de ambas opciones."
      ],
      "metadata": {
        "id": "ngLwwu-g2TxJ"
      }
    },
    {
      "cell_type": "code",
      "source": [
        "%%shell\n",
        "#metaquast.py /content/assembly/assembly.fasta -t 2 --gene-finding"
      ],
      "metadata": {
        "id": "ofXJlkT6yIbL"
      },
      "execution_count": null,
      "outputs": []
    },
    {
      "cell_type": "code",
      "source": [
        "%ls /content/quast_results/latest/"
      ],
      "metadata": {
        "id": "c-dRKWB_0Dip"
      },
      "execution_count": null,
      "outputs": []
    },
    {
      "cell_type": "code",
      "source": [
        "import IPython\n",
        "IPython.display.HTML(filename='/content/quast_results/latest/report.html')"
      ],
      "metadata": {
        "id": "UBCrxa5X0IfF"
      },
      "execution_count": null,
      "outputs": []
    },
    {
      "cell_type": "code",
      "source": [
        "import IPython\n",
        "IPython.display.HTML(filename='/content/quast_results/latest/icarus.html')"
      ],
      "metadata": {
        "id": "U1eZvU9w0LZz"
      },
      "execution_count": null,
      "outputs": []
    },
    {
      "cell_type": "markdown",
      "source": [
        "# **5. ABRicate. Resistencia a antibióticos**\n",
        "\n",
        "Identifica genes de resistencia a antibióticos mediante la ejecución de ensamblajes locales.\n",
        "\n",
        "Cribado masivo de contigs para genes de resistencia a los antimicrobianos o de virulencia. Incluye varias bases de datos: `NCBI`, `CARD`, `ARG-ANNOT`, `Resfinder`, `MEGARES`, `EcOH`, `PlasmidFinder`, `Ecoli_VF` y `VFDB`.\n",
        "\n",
        "¿Es esta la herramienta adecuada para mí?\n",
        "- Solo admite contigs, no lecturas FASTQ\n",
        "- Solo detecta genes de resistencia adquiridos, **NO** mutaciones puntuales\n",
        "- Utiliza una base de datos de secuencias de ADN, no de proteínas.\n",
        "- Necesita BLAST+ >= 2.7 y any2fastaestar instalado\n",
        "- Está escrito en Perl 🐫"
      ],
      "metadata": {
        "id": "SePAWrgbfjJx"
      }
    },
    {
      "cell_type": "markdown",
      "source": [
        "Antes de ejecutar el programa confirme si funciona correctamente y que cumple con todos los requisitos."
      ],
      "metadata": {
        "id": "ggvZ1EqKSdSc"
      }
    },
    {
      "cell_type": "code",
      "source": [
        "!abricate --check"
      ],
      "metadata": {
        "id": "be02tHAdSdtp"
      },
      "execution_count": null,
      "outputs": []
    },
    {
      "cell_type": "markdown",
      "source": [
        "El error puede ser ocasionado por el cambio del enviroment cuando instalamos `kraken2`. Vuelva a colocarlo en base."
      ],
      "metadata": {
        "id": "El6HnCgV30nZ"
      }
    },
    {
      "cell_type": "code",
      "source": [
        "!echo $PATH"
      ],
      "metadata": {
        "id": "-s_mlg1z3x41"
      },
      "execution_count": null,
      "outputs": []
    },
    {
      "cell_type": "code",
      "source": [
        "%set_env PATH=['/opt/bin:/usr/local/nvidia/bin:/usr/local/cuda/bin:/usr/local/sbin:/usr/local/bin:/usr/sbin:/usr/bin:/sbin:/bin:/tools/node/bin:/tools/google-cloud-sdk/bin' ]"
      ],
      "metadata": {
        "id": "EV7fUIWb3pH2"
      },
      "execution_count": null,
      "outputs": []
    },
    {
      "cell_type": "code",
      "source": [
        "!echo $PATH"
      ],
      "metadata": {
        "id": "13KQ8Qbk1g5t"
      },
      "execution_count": null,
      "outputs": []
    },
    {
      "cell_type": "markdown",
      "source": [
        "Observe las bases de datos disponibles para ABRicate."
      ],
      "metadata": {
        "id": "ob-kCmmU2eyX"
      }
    },
    {
      "cell_type": "code",
      "source": [
        "!abricate --list"
      ],
      "metadata": {
        "id": "k_CAcij62fEb"
      },
      "execution_count": null,
      "outputs": []
    },
    {
      "cell_type": "markdown",
      "source": [
        "Usted puede actualizar cada una de las bases de datos disponibles con el comando `abricate-get_db`."
      ],
      "metadata": {
        "id": "nOWgr7wJoNuO"
      }
    },
    {
      "cell_type": "code",
      "source": [
        "!abricate-get_db --help"
      ],
      "metadata": {
        "id": "JaXW-hoepWNc"
      },
      "execution_count": null,
      "outputs": []
    },
    {
      "cell_type": "code",
      "source": [
        "!abricate-get_db --db card --force"
      ],
      "metadata": {
        "id": "SkQm5PszoMfX"
      },
      "execution_count": null,
      "outputs": []
    },
    {
      "cell_type": "markdown",
      "source": [
        "Observe la actualización de los registros de la base de datos."
      ],
      "metadata": {
        "id": "ULrHe0v4ogFC"
      }
    },
    {
      "cell_type": "code",
      "source": [
        "!abricate --list"
      ],
      "metadata": {
        "id": "WiQ-wDvBon0j"
      },
      "execution_count": null,
      "outputs": []
    },
    {
      "cell_type": "markdown",
      "source": [
        "Abricate acepta cualquier archivo de secuencia que any2fasta pueda convertirse a archivos FASTA (por ejemplo, Genbank, EMBL) y pueden ser opcionalmente gzipcomprimidos bzip2.\n",
        "\n",
        "**Nota:** No acepta lecturas FASTQ sin procesar; utilice otros programas como Ariba o SRTS2 para eso.\n",
        "\n"
      ],
      "metadata": {
        "id": "2aMzvE5L2yV1"
      }
    },
    {
      "cell_type": "code",
      "source": [
        "!abricate /content/assembly/assembly.fasta --db ncbi > abricate_output_ncbi.tsv"
      ],
      "metadata": {
        "id": "pvSKKMY92xo2"
      },
      "execution_count": null,
      "outputs": []
    },
    {
      "cell_type": "markdown",
      "source": [
        "Los resultados son almacenados en una archivo `.tsv`."
      ],
      "metadata": {
        "id": "NxV6M6bl3K2A"
      }
    },
    {
      "cell_type": "code",
      "source": [
        "!cat abricate_output_ncbi.tsv"
      ],
      "metadata": {
        "id": "Q1Y4Xw9l3vIS"
      },
      "execution_count": null,
      "outputs": []
    },
    {
      "cell_type": "markdown",
      "source": [
        "Podemos probar otras bases de datos. Sientase libre de probarlas."
      ],
      "metadata": {
        "id": "WF_tN7bDq17W"
      }
    },
    {
      "cell_type": "code",
      "source": [
        "!abricate /content/assembly/assembly.fasta --db megares > abricate_output_megares.tsv"
      ],
      "metadata": {
        "id": "fvRSFHQzq7-7"
      },
      "execution_count": null,
      "outputs": []
    },
    {
      "cell_type": "code",
      "source": [
        "!cat abricate_output_megares.tsv"
      ],
      "metadata": {
        "id": "6PUaCmnWrEAq"
      },
      "execution_count": null,
      "outputs": []
    },
    {
      "cell_type": "markdown",
      "source": [
        "**Advertencias**\n",
        "\n",
        "- No encuentra resistencia mutacional, sólo genes adquiridos.\n",
        "- Informe de brechas incompleto\n",
        "- A veces se informarán dos genes muy superpuestos para el mismo locus.\n",
        "- Posibles problemas en el cálculo de la cobertura."
      ],
      "metadata": {
        "id": "8vT0qLIr3tQs"
      }
    },
    {
      "cell_type": "markdown",
      "source": [
        "La base de datos predeterminada es ncbi. Puede elegir una base de datos diferente mediante la opción `--db`.\n",
        "\n",
        "Realice el análisis cambiado la base de datos a vcfdb.\n"
      ],
      "metadata": {
        "id": "lOaW4lc14qEn"
      }
    },
    {
      "cell_type": "code",
      "source": [
        "!abricate --db vfdb /content/assembly/assembly.fasta > abricate_output_vfdb.tsv"
      ],
      "metadata": {
        "id": "9_ezik-m421S"
      },
      "execution_count": null,
      "outputs": []
    },
    {
      "cell_type": "markdown",
      "source": [
        "Observe el resultado con vfdb."
      ],
      "metadata": {
        "id": "6aBhJCZ35Et8"
      }
    },
    {
      "cell_type": "code",
      "source": [
        "!cat abricate_output_vfdb.tsv"
      ],
      "metadata": {
        "id": "IZjpQjDs5Jo4"
      },
      "execution_count": null,
      "outputs": []
    },
    {
      "cell_type": "markdown",
      "source": [
        "Ahora con Card."
      ],
      "metadata": {
        "id": "rEd9Fm5p5MLL"
      }
    },
    {
      "cell_type": "code",
      "source": [
        "!abricate --db card /content/assembly/assembly.fasta > abricate_output_card.tsv"
      ],
      "metadata": {
        "id": "v3eRA0AQ5PEg"
      },
      "execution_count": null,
      "outputs": []
    },
    {
      "cell_type": "markdown",
      "source": [
        "Observe el resultado con Card."
      ],
      "metadata": {
        "id": "GCz-9wQb5RrA"
      }
    },
    {
      "cell_type": "code",
      "source": [
        "!cat abricate_output_card.tsv"
      ],
      "metadata": {
        "id": "iNliUCjm5Q3I"
      },
      "execution_count": null,
      "outputs": []
    },
    {
      "cell_type": "markdown",
      "source": [
        "Si usted desea comparar varias muestras use el comando `summary` y enliste todos los output de las distintas muestras. Para ejemplificar creemos una copia de nuestro resultado, o realice los pasos anteriores para otra muestra.\n",
        "\n"
      ],
      "metadata": {
        "id": "lnClE6jG5YVK"
      }
    },
    {
      "cell_type": "markdown",
      "source": [
        "Creemos la copia."
      ],
      "metadata": {
        "id": "GQQW-nHB6POs"
      }
    },
    {
      "cell_type": "code",
      "source": [
        "!cp abricate_output_ncbi.tsv abricate_output2_ncbi.tsv"
      ],
      "metadata": {
        "id": "aka0ufK_6SVT"
      },
      "execution_count": null,
      "outputs": []
    },
    {
      "cell_type": "markdown",
      "source": [
        "Comparemos los resultados."
      ],
      "metadata": {
        "id": "BNiW7KRS6V1S"
      }
    },
    {
      "cell_type": "code",
      "source": [
        "!abricate --summary abricate_output_ncbi.tsv abricate_output2_ncbi.tsv > tabla_resultado_ncbi.tsv"
      ],
      "metadata": {
        "id": "PacbWwXi6gS8"
      },
      "execution_count": null,
      "outputs": []
    },
    {
      "cell_type": "code",
      "source": [
        "!cat tabla_resultado_ncbi.tsv"
      ],
      "metadata": {
        "id": "6XGAa4wg6nBe"
      },
      "execution_count": null,
      "outputs": []
    }
  ]
}